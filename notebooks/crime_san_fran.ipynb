{
 "cells": [
  {
   "cell_type": "code",
   "execution_count": 1,
   "metadata": {},
   "outputs": [
    {
     "name": "stderr",
     "output_type": "stream",
     "text": [
      "Loading required package: readr\n",
      "\n",
      "Loading required package: dplyr\n",
      "\n",
      "\n",
      "Attaching package: 'dplyr'\n",
      "\n",
      "\n",
      "The following objects are masked from 'package:stats':\n",
      "\n",
      "    filter, lag\n",
      "\n",
      "\n",
      "The following objects are masked from 'package:base':\n",
      "\n",
      "    intersect, setdiff, setequal, union\n",
      "\n",
      "\n",
      "Loading required package: DT\n",
      "\n",
      "Loading required package: ggrepel\n",
      "\n",
      "Loading required package: ggplot2\n",
      "\n",
      "Loading required package: leaflet\n",
      "\n"
     ]
    }
   ],
   "source": [
    "if (!require(readr)) install.packages(\"readr\")\n",
    "if (!require(dplyr)) install.packages(\"dplyr\")\n",
    "if (!require(DT)) install.packages(\"DT\")\n",
    "if (!require(ggrepel)) install.packages(\"ggrepel\")\n",
    "if (!require(leaflet)) install.packages(\"leaflet\")"
   ]
  },
  {
   "cell_type": "code",
   "execution_count": null,
   "metadata": {},
   "outputs": [],
   "source": []
  }
 ],
 "metadata": {
  "kernelspec": {
   "display_name": "R",
   "language": "R",
   "name": "ir"
  },
  "language_info": {
   "codemirror_mode": "r",
   "file_extension": ".r",
   "mimetype": "text/x-r-source",
   "name": "R",
   "pygments_lexer": "r",
   "version": "4.1.1"
  },
  "orig_nbformat": 4
 },
 "nbformat": 4,
 "nbformat_minor": 2
}
