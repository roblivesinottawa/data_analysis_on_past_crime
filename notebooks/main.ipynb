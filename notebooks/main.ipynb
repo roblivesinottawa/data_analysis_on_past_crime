{
 "cells": [
  {
   "cell_type": "code",
   "execution_count": 1,
   "metadata": {},
   "outputs": [
    {
     "name": "stderr",
     "output_type": "stream",
     "text": [
      "Loading required package: readr\n",
      "\n",
      "Loading required package: dplyr\n",
      "\n",
      "\n",
      "Attaching package: ‘dplyr’\n",
      "\n",
      "\n",
      "The following objects are masked from ‘package:stats’:\n",
      "\n",
      "    filter, lag\n",
      "\n",
      "\n",
      "The following objects are masked from ‘package:base’:\n",
      "\n",
      "    intersect, setdiff, setequal, union\n",
      "\n",
      "\n",
      "Loading required package: DT\n",
      "\n",
      "Warning message in library(package, lib.loc = lib.loc, character.only = TRUE, logical.return = TRUE, :\n",
      "“there is no package called ‘DT’”\n",
      "Installing package into ‘/Users/robsontrajano/Library/R/x86_64/4.1/library’\n",
      "(as ‘lib’ is unspecified)\n",
      "\n",
      "also installing the dependencies ‘later’, ‘htmlwidgets’, ‘crosstalk’, ‘jquerylib’, ‘promises’\n",
      "\n",
      "\n"
     ]
    },
    {
     "name": "stdout",
     "output_type": "stream",
     "text": [
      "\n",
      "The downloaded binary packages are in\n",
      "\t/var/folders/83/_gttb8hn67dfsswspxfpc23w0000gn/T//RtmpncYPyt/downloaded_packages\n"
     ]
    },
    {
     "name": "stderr",
     "output_type": "stream",
     "text": [
      "Loading required package: ggrepel\n",
      "\n",
      "Warning message in library(package, lib.loc = lib.loc, character.only = TRUE, logical.return = TRUE, :\n",
      "“there is no package called ‘ggrepel’”\n",
      "Installing package into ‘/Users/robsontrajano/Library/R/x86_64/4.1/library’\n",
      "(as ‘lib’ is unspecified)\n",
      "\n",
      "also installing the dependencies ‘colorspace’, ‘gtable’, ‘isoband’, ‘farver’, ‘labeling’, ‘munsell’, ‘RColorBrewer’, ‘viridisLite’, ‘ggplot2’, ‘scales’\n",
      "\n",
      "\n"
     ]
    },
    {
     "name": "stdout",
     "output_type": "stream",
     "text": [
      "\n",
      "The downloaded binary packages are in\n",
      "\t/var/folders/83/_gttb8hn67dfsswspxfpc23w0000gn/T//RtmpncYPyt/downloaded_packages\n"
     ]
    },
    {
     "name": "stderr",
     "output_type": "stream",
     "text": [
      "Loading required package: leaflet\n",
      "\n",
      "Warning message in library(package, lib.loc = lib.loc, character.only = TRUE, logical.return = TRUE, :\n",
      "“there is no package called ‘leaflet’”\n",
      "Installing package into ‘/Users/robsontrajano/Library/R/x86_64/4.1/library’\n",
      "(as ‘lib’ is unspecified)\n",
      "\n",
      "also installing the dependencies ‘terra’, ‘gridExtra’, ‘markdown’, ‘png’, ‘raster’, ‘sp’, ‘viridis’, ‘leaflet.providers’\n",
      "\n",
      "\n",
      "Warning message in download.file(url, destfile, method, mode = \"wb\", ...):\n",
      "“downloaded length 8224768 != reported length 96919656”\n",
      "Warning message in download.file(url, destfile, method, mode = \"wb\", ...):\n",
      "“URL 'https://cran.r-project.org/bin/macosx/contrib/4.1/terra_1.4-22.tgz': Timeout of 60 seconds was reached”\n"
     ]
    },
    {
     "name": "stdout",
     "output_type": "stream",
     "text": [
      "Error in download.file(url, destfile, method, mode = \"wb\", ...) : \n",
      "  download from 'https://cran.r-project.org/bin/macosx/contrib/4.1/terra_1.4-22.tgz' failed\n"
     ]
    },
    {
     "name": "stderr",
     "output_type": "stream",
     "text": [
      "Warning message in download.packages(pkgs, destdir = tmpd, available = available, :\n",
      "“download of package ‘terra’ failed”\n"
     ]
    },
    {
     "name": "stdout",
     "output_type": "stream",
     "text": [
      "\n",
      "The downloaded binary packages are in\n",
      "\t/var/folders/83/_gttb8hn67dfsswspxfpc23w0000gn/T//RtmpncYPyt/downloaded_packages\n"
     ]
    }
   ],
   "source": [
    "if (!require(readr)) install.packages(\"readr\")\n",
    "if (!require(dplyr)) install.packages(\"dplyr\")\n",
    "if (!require(DT)) install.packages(\"DT\")\n",
    "if (!require(ggrepel)) install.packages(\"ggrepel\")\n",
    "if (!require(leaflet)) install.packages(\"leaflet\")"
   ]
  },
  {
   "cell_type": "code",
   "execution_count": 7,
   "metadata": {},
   "outputs": [],
   "source": [
    "path <- \"../data/84cf68aa-8c6c-487a-96bf-902ff00a0128.csv\""
   ]
  },
  {
   "cell_type": "code",
   "execution_count": 8,
   "metadata": {},
   "outputs": [
    {
     "name": "stderr",
     "output_type": "stream",
     "text": [
      "\u001b[1mRows: \u001b[22m\u001b[34m15\u001b[39m \u001b[1mColumns: \u001b[22m\u001b[34m19\u001b[39m\n",
      "\n",
      "\u001b[36m──\u001b[39m \u001b[1mColumn specification\u001b[22m \u001b[36m────────────────────────────────────────────────────────\u001b[39m\n",
      "\u001b[1mDelimiter:\u001b[22m \",\"\n",
      "\u001b[31mchr\u001b[39m (10): Region, PopnAllAges, IncidentRate, PopnAged12Plus, RateCharged12Pl...\n",
      "\u001b[32mdbl\u001b[39m  (1): _id\n",
      "\n",
      "\n",
      "\u001b[36mℹ\u001b[39m Use \u001b[30m\u001b[47m\u001b[30m\u001b[47m`spec()`\u001b[47m\u001b[30m\u001b[49m\u001b[39m to retrieve the full column specification for this data.\n",
      "\u001b[36mℹ\u001b[39m Specify the column types or set \u001b[30m\u001b[47m\u001b[30m\u001b[47m`show_col_types = FALSE`\u001b[47m\u001b[30m\u001b[49m\u001b[39m to quiet this message.\n",
      "\n"
     ]
    }
   ],
   "source": [
    "df <- read_csv(path)"
   ]
  },
  {
   "cell_type": "code",
   "execution_count": 9,
   "metadata": {},
   "outputs": [
    {
     "data": {
      "text/plain": [
       "      _id          Region           NumIncidents    PopnAllAges       \n",
       " Min.   : 1.0   Length:15          Min.   :  2625   Length:15         \n",
       " 1st Qu.: 4.5   Class :character   1st Qu.: 68957   Class :character  \n",
       " Median : 8.0   Mode  :character   Median :106818   Mode  :character  \n",
       " Mean   : 8.0                      Mean   : 91732                     \n",
       " 3rd Qu.:11.5                      3rd Qu.:128268                     \n",
       " Max.   :15.0                      Max.   :142375                     \n",
       "                                   NA's   :9                          \n",
       " IncidentRate         NumCleared    ClearedByCharge ClearedOtherwise\n",
       " Length:15          Min.   : 1305   Min.   :  770   Min.   :  535   \n",
       " Class :character   1st Qu.:37692   1st Qu.:26575   1st Qu.:11116   \n",
       " Mode  :character   Median :48568   Median :35068   Median :13499   \n",
       "                    Mean   :44118   Mean   :31658   Mean   :12460   \n",
       "                    3rd Qu.:57642   3rd Qu.:41097   3rd Qu.:16545   \n",
       "                    Max.   :71533   Max.   :52189   Max.   :19344   \n",
       "                    NA's   :9       NA's   :9       NA's   :9       \n",
       "  TotalCharged   PopnAged12Plus     RateCharged12Plus  NumAdultsCharged\n",
       " Min.   :  750   Length:15          Length:15          Min.   :  675   \n",
       " 1st Qu.:26490   Class :character   Class :character   1st Qu.:24190   \n",
       " Median :34016   Mode  :character   Mode  :character   Median :31322   \n",
       " Mean   :30862                                         Mean   :28289   \n",
       " 3rd Qu.:40029                                         3rd Qu.:36826   \n",
       " Max.   :50378                                         Max.   :45941   \n",
       " NA's   :9                                             NA's   :9       \n",
       " PopnAged18Plus     RateAdultsCharged18Plus NumYouthCharged PopnAged12to17    \n",
       " Length:15          Length:15               Min.   :  75    Length:15         \n",
       " Class :character   Class :character        1st Qu.:2300    Class :character  \n",
       " Mode  :character   Mode  :character        Median :2695    Mode  :character  \n",
       "                                            Mean   :2574                      \n",
       "                                            3rd Qu.:3203                      \n",
       "                                            Max.   :4437                      \n",
       "                                            NA's   :9                         \n",
       " RateCharged12to17  NumYouthNotCharged RateNotCharged12to17\n",
       " Length:15          Min.   : 135       Length:15           \n",
       " Class :character   1st Qu.:2423       Class :character    \n",
       " Mode  :character   Median :3419       Mode  :character    \n",
       "                    Mean   :3310                           \n",
       "                    3rd Qu.:4311                           \n",
       "                    Max.   :6191                           \n",
       "                    NA's   :9                              "
      ]
     },
     "metadata": {},
     "output_type": "display_data"
    }
   ],
   "source": [
    "summary(df)"
   ]
  },
  {
   "cell_type": "code",
   "execution_count": 11,
   "metadata": {},
   "outputs": [
    {
     "data": {
      "text/html": [
       "19"
      ],
      "text/latex": [
       "19"
      ],
      "text/markdown": [
       "19"
      ],
      "text/plain": [
       "[1] 19"
      ]
     },
     "metadata": {},
     "output_type": "display_data"
    }
   ],
   "source": [
    "length(df)"
   ]
  },
  {
   "cell_type": "code",
   "execution_count": 13,
   "metadata": {},
   "outputs": [
    {
     "name": "stdout",
     "output_type": "stream",
     "text": [
      "\u001b[90m# A tibble: 6 × 19\u001b[39m\n",
      "  `_id` Region  NumIncidents PopnAllAges IncidentRate NumCleared ClearedByCharge\n",
      "  \u001b[3m\u001b[90m<dbl>\u001b[39m\u001b[23m \u001b[3m\u001b[90m<chr>\u001b[39m\u001b[23m          \u001b[3m\u001b[90m<dbl>\u001b[39m\u001b[23m \u001b[3m\u001b[90m<chr>\u001b[39m\u001b[23m       \u001b[3m\u001b[90m<chr>\u001b[39m\u001b[23m             \u001b[3m\u001b[90m<dbl>\u001b[39m\u001b[23m           \u001b[3m\u001b[90m<dbl>\u001b[39m\u001b[23m\n",
      "\u001b[90m1\u001b[39m     1 Central       \u001b[4m1\u001b[24m\u001b[4m4\u001b[24m\u001b[4m2\u001b[24m375 4,451,480   3,198.37          \u001b[4m7\u001b[24m\u001b[4m1\u001b[24m533           \u001b[4m5\u001b[24m\u001b[4m2\u001b[24m189\n",
      "\u001b[90m2\u001b[39m     2 East          \u001b[4m1\u001b[24m\u001b[4m0\u001b[24m\u001b[4m5\u001b[24m890 2,781,428   3,807.04          \u001b[4m5\u001b[24m\u001b[4m1\u001b[24m200           \u001b[4m3\u001b[24m\u001b[4m5\u001b[24m353\n",
      "\u001b[90m3\u001b[39m     3 North          \u001b[4m5\u001b[24m\u001b[4m6\u001b[24m646 860,589     6,582.24          \u001b[4m3\u001b[24m\u001b[4m4\u001b[24m944           \u001b[4m2\u001b[24m\u001b[4m3\u001b[24m839\n",
      "\u001b[90m4\u001b[39m     4 Toronto       \u001b[4m1\u001b[24m\u001b[4m0\u001b[24m\u001b[4m7\u001b[24m747 2,826,498   3,812.03          \u001b[4m4\u001b[24m\u001b[4m5\u001b[24m935           \u001b[4m3\u001b[24m\u001b[4m4\u001b[24m784\n",
      "\u001b[90m5\u001b[39m     5 West          \u001b[4m1\u001b[24m\u001b[4m3\u001b[24m\u001b[4m5\u001b[24m108 2,872,057   4,704.22          \u001b[4m5\u001b[24m\u001b[4m9\u001b[24m790           \u001b[4m4\u001b[24m\u001b[4m3\u001b[24m012\n",
      "\u001b[90m6\u001b[39m     6 Other           \u001b[4m2\u001b[24m625 .           .                  \u001b[4m1\u001b[24m305             770\n",
      "\u001b[90m# … with 12 more variables: ClearedOtherwise <dbl>, TotalCharged <dbl>,\u001b[39m\n",
      "\u001b[90m#   PopnAged12Plus <chr>, RateCharged12Plus <chr>, NumAdultsCharged <dbl>,\u001b[39m\n",
      "\u001b[90m#   PopnAged18Plus <chr>, RateAdultsCharged18Plus <chr>, NumYouthCharged <dbl>,\u001b[39m\n",
      "\u001b[90m#   PopnAged12to17 <chr>, RateCharged12to17 <chr>, NumYouthNotCharged <dbl>,\u001b[39m\n",
      "\u001b[90m#   RateNotCharged12to17 <chr>\u001b[39m\n"
     ]
    }
   ],
   "source": [
    "print(head(df))"
   ]
  },
  {
   "cell_type": "code",
   "execution_count": 14,
   "metadata": {},
   "outputs": [
    {
     "data": {
      "text/html": [
       "<table class=\"dataframe\">\n",
       "<caption>A tibble: 6 × 19</caption>\n",
       "<thead>\n",
       "\t<tr><th scope=col>_id</th><th scope=col>Region</th><th scope=col>NumIncidents</th><th scope=col>PopnAllAges</th><th scope=col>IncidentRate</th><th scope=col>NumCleared</th><th scope=col>ClearedByCharge</th><th scope=col>ClearedOtherwise</th><th scope=col>TotalCharged</th><th scope=col>PopnAged12Plus</th><th scope=col>RateCharged12Plus</th><th scope=col>NumAdultsCharged</th><th scope=col>PopnAged18Plus</th><th scope=col>RateAdultsCharged18Plus</th><th scope=col>NumYouthCharged</th><th scope=col>PopnAged12to17</th><th scope=col>RateCharged12to17</th><th scope=col>NumYouthNotCharged</th><th scope=col>RateNotCharged12to17</th></tr>\n",
       "\t<tr><th scope=col>&lt;dbl&gt;</th><th scope=col>&lt;chr&gt;</th><th scope=col>&lt;dbl&gt;</th><th scope=col>&lt;chr&gt;</th><th scope=col>&lt;chr&gt;</th><th scope=col>&lt;dbl&gt;</th><th scope=col>&lt;dbl&gt;</th><th scope=col>&lt;dbl&gt;</th><th scope=col>&lt;dbl&gt;</th><th scope=col>&lt;chr&gt;</th><th scope=col>&lt;chr&gt;</th><th scope=col>&lt;dbl&gt;</th><th scope=col>&lt;chr&gt;</th><th scope=col>&lt;chr&gt;</th><th scope=col>&lt;dbl&gt;</th><th scope=col>&lt;chr&gt;</th><th scope=col>&lt;chr&gt;</th><th scope=col>&lt;dbl&gt;</th><th scope=col>&lt;chr&gt;</th></tr>\n",
       "</thead>\n",
       "<tbody>\n",
       "\t<tr><td>1</td><td>Central</td><td>142375</td><td>4,451,480</td><td>3,198.37</td><td>71533</td><td>52189</td><td>19344</td><td>50378</td><td>3,835,077</td><td>1,313.61</td><td>45941</td><td>3,500,664</td><td>1,312.35</td><td>4437</td><td>334,413</td><td>1,326.80</td><td>6191</td><td>1,851.30</td></tr>\n",
       "\t<tr><td>2</td><td>East   </td><td>105890</td><td>2,781,428</td><td>3,807.04</td><td>51200</td><td>35353</td><td>15847</td><td>34599</td><td>2,439,593</td><td>1,418.23</td><td>31770</td><td>2,255,789</td><td>1,408.38</td><td>2829</td><td>183,804</td><td>1,539.14</td><td>4312</td><td>2,345.98</td></tr>\n",
       "\t<tr><td>3</td><td>North  </td><td> 56646</td><td>860,589  </td><td>6,582.24</td><td>34944</td><td>23839</td><td>11105</td><td>24175</td><td>758,123  </td><td>3,188.80</td><td>21962</td><td>702,710  </td><td>3,125.33</td><td>2213</td><td>55,413 </td><td>3,993.65</td><td>2530</td><td>4,565.72</td></tr>\n",
       "\t<tr><td>4</td><td>Toronto</td><td>107747</td><td>2,826,498</td><td>3,812.03</td><td>45935</td><td>34784</td><td>11151</td><td>33434</td><td>2,497,207</td><td>1,338.86</td><td>30873</td><td>2,340,999</td><td>1,318.80</td><td>2561</td><td>156,208</td><td>1,639.48</td><td>2387</td><td>1,528.09</td></tr>\n",
       "\t<tr><td>5</td><td>West   </td><td>135108</td><td>2,872,057</td><td>4,704.22</td><td>59790</td><td>43012</td><td>16778</td><td>41839</td><td>2,512,137</td><td>1,665.47</td><td>38511</td><td>2,317,564</td><td>1,661.70</td><td>3328</td><td>194,573</td><td>1,710.41</td><td>4308</td><td>2,214.08</td></tr>\n",
       "\t<tr><td>6</td><td>Other  </td><td>  2625</td><td>.        </td><td>.       </td><td> 1305</td><td>  770</td><td>  535</td><td>  750</td><td>.        </td><td>.       </td><td>  675</td><td>.        </td><td>.       </td><td>  75</td><td>.      </td><td>.       </td><td> 135</td><td>.       </td></tr>\n",
       "</tbody>\n",
       "</table>\n"
      ],
      "text/latex": [
       "A tibble: 6 × 19\n",
       "\\begin{tabular}{lllllllllllllllllll}\n",
       " \\_id & Region & NumIncidents & PopnAllAges & IncidentRate & NumCleared & ClearedByCharge & ClearedOtherwise & TotalCharged & PopnAged12Plus & RateCharged12Plus & NumAdultsCharged & PopnAged18Plus & RateAdultsCharged18Plus & NumYouthCharged & PopnAged12to17 & RateCharged12to17 & NumYouthNotCharged & RateNotCharged12to17\\\\\n",
       " <dbl> & <chr> & <dbl> & <chr> & <chr> & <dbl> & <dbl> & <dbl> & <dbl> & <chr> & <chr> & <dbl> & <chr> & <chr> & <dbl> & <chr> & <chr> & <dbl> & <chr>\\\\\n",
       "\\hline\n",
       "\t 1 & Central & 142375 & 4,451,480 & 3,198.37 & 71533 & 52189 & 19344 & 50378 & 3,835,077 & 1,313.61 & 45941 & 3,500,664 & 1,312.35 & 4437 & 334,413 & 1,326.80 & 6191 & 1,851.30\\\\\n",
       "\t 2 & East    & 105890 & 2,781,428 & 3,807.04 & 51200 & 35353 & 15847 & 34599 & 2,439,593 & 1,418.23 & 31770 & 2,255,789 & 1,408.38 & 2829 & 183,804 & 1,539.14 & 4312 & 2,345.98\\\\\n",
       "\t 3 & North   &  56646 & 860,589   & 6,582.24 & 34944 & 23839 & 11105 & 24175 & 758,123   & 3,188.80 & 21962 & 702,710   & 3,125.33 & 2213 & 55,413  & 3,993.65 & 2530 & 4,565.72\\\\\n",
       "\t 4 & Toronto & 107747 & 2,826,498 & 3,812.03 & 45935 & 34784 & 11151 & 33434 & 2,497,207 & 1,338.86 & 30873 & 2,340,999 & 1,318.80 & 2561 & 156,208 & 1,639.48 & 2387 & 1,528.09\\\\\n",
       "\t 5 & West    & 135108 & 2,872,057 & 4,704.22 & 59790 & 43012 & 16778 & 41839 & 2,512,137 & 1,665.47 & 38511 & 2,317,564 & 1,661.70 & 3328 & 194,573 & 1,710.41 & 4308 & 2,214.08\\\\\n",
       "\t 6 & Other   &   2625 & .         & .        &  1305 &   770 &   535 &   750 & .         & .        &   675 & .         & .        &   75 & .       & .        &  135 & .       \\\\\n",
       "\\end{tabular}\n"
      ],
      "text/markdown": [
       "\n",
       "A tibble: 6 × 19\n",
       "\n",
       "| _id &lt;dbl&gt; | Region &lt;chr&gt; | NumIncidents &lt;dbl&gt; | PopnAllAges &lt;chr&gt; | IncidentRate &lt;chr&gt; | NumCleared &lt;dbl&gt; | ClearedByCharge &lt;dbl&gt; | ClearedOtherwise &lt;dbl&gt; | TotalCharged &lt;dbl&gt; | PopnAged12Plus &lt;chr&gt; | RateCharged12Plus &lt;chr&gt; | NumAdultsCharged &lt;dbl&gt; | PopnAged18Plus &lt;chr&gt; | RateAdultsCharged18Plus &lt;chr&gt; | NumYouthCharged &lt;dbl&gt; | PopnAged12to17 &lt;chr&gt; | RateCharged12to17 &lt;chr&gt; | NumYouthNotCharged &lt;dbl&gt; | RateNotCharged12to17 &lt;chr&gt; |\n",
       "|---|---|---|---|---|---|---|---|---|---|---|---|---|---|---|---|---|---|---|\n",
       "| 1 | Central | 142375 | 4,451,480 | 3,198.37 | 71533 | 52189 | 19344 | 50378 | 3,835,077 | 1,313.61 | 45941 | 3,500,664 | 1,312.35 | 4437 | 334,413 | 1,326.80 | 6191 | 1,851.30 |\n",
       "| 2 | East    | 105890 | 2,781,428 | 3,807.04 | 51200 | 35353 | 15847 | 34599 | 2,439,593 | 1,418.23 | 31770 | 2,255,789 | 1,408.38 | 2829 | 183,804 | 1,539.14 | 4312 | 2,345.98 |\n",
       "| 3 | North   |  56646 | 860,589   | 6,582.24 | 34944 | 23839 | 11105 | 24175 | 758,123   | 3,188.80 | 21962 | 702,710   | 3,125.33 | 2213 | 55,413  | 3,993.65 | 2530 | 4,565.72 |\n",
       "| 4 | Toronto | 107747 | 2,826,498 | 3,812.03 | 45935 | 34784 | 11151 | 33434 | 2,497,207 | 1,338.86 | 30873 | 2,340,999 | 1,318.80 | 2561 | 156,208 | 1,639.48 | 2387 | 1,528.09 |\n",
       "| 5 | West    | 135108 | 2,872,057 | 4,704.22 | 59790 | 43012 | 16778 | 41839 | 2,512,137 | 1,665.47 | 38511 | 2,317,564 | 1,661.70 | 3328 | 194,573 | 1,710.41 | 4308 | 2,214.08 |\n",
       "| 6 | Other   |   2625 | .         | .        |  1305 |   770 |   535 |   750 | .         | .        |   675 | .         | .        |   75 | .       | .        |  135 | .        |\n",
       "\n"
      ],
      "text/plain": [
       "  _id Region  NumIncidents PopnAllAges IncidentRate NumCleared ClearedByCharge\n",
       "1 1   Central 142375       4,451,480   3,198.37     71533      52189          \n",
       "2 2   East    105890       2,781,428   3,807.04     51200      35353          \n",
       "3 3   North    56646       860,589     6,582.24     34944      23839          \n",
       "4 4   Toronto 107747       2,826,498   3,812.03     45935      34784          \n",
       "5 5   West    135108       2,872,057   4,704.22     59790      43012          \n",
       "6 6   Other     2625       .           .             1305        770          \n",
       "  ClearedOtherwise TotalCharged PopnAged12Plus RateCharged12Plus\n",
       "1 19344            50378        3,835,077      1,313.61         \n",
       "2 15847            34599        2,439,593      1,418.23         \n",
       "3 11105            24175        758,123        3,188.80         \n",
       "4 11151            33434        2,497,207      1,338.86         \n",
       "5 16778            41839        2,512,137      1,665.47         \n",
       "6   535              750        .              .                \n",
       "  NumAdultsCharged PopnAged18Plus RateAdultsCharged18Plus NumYouthCharged\n",
       "1 45941            3,500,664      1,312.35                4437           \n",
       "2 31770            2,255,789      1,408.38                2829           \n",
       "3 21962            702,710        3,125.33                2213           \n",
       "4 30873            2,340,999      1,318.80                2561           \n",
       "5 38511            2,317,564      1,661.70                3328           \n",
       "6   675            .              .                         75           \n",
       "  PopnAged12to17 RateCharged12to17 NumYouthNotCharged RateNotCharged12to17\n",
       "1 334,413        1,326.80          6191               1,851.30            \n",
       "2 183,804        1,539.14          4312               2,345.98            \n",
       "3 55,413         3,993.65          2530               4,565.72            \n",
       "4 156,208        1,639.48          2387               1,528.09            \n",
       "5 194,573        1,710.41          4308               2,214.08            \n",
       "6 .              .                  135               .                   "
      ]
     },
     "metadata": {},
     "output_type": "display_data"
    }
   ],
   "source": [
    "head(df)"
   ]
  },
  {
   "cell_type": "code",
   "execution_count": 19,
   "metadata": {},
   "outputs": [],
   "source": [
    "# drop some columns\n",
    "drop <- c(\"_id\", \"IncidentRate\", \"ClearedOtherwise\", \"NumYouthCharged\", \"PopnAged12to17\", \"RateCharged12to17\", \"NumYouthNotCharged\", \"RateNotCharged12to17\")"
   ]
  },
  {
   "cell_type": "code",
   "execution_count": 20,
   "metadata": {},
   "outputs": [],
   "source": [
    "df <- df[, !(names(df) %in% drop)]"
   ]
  },
  {
   "cell_type": "code",
   "execution_count": 23,
   "metadata": {},
   "outputs": [
    {
     "name": "stdout",
     "output_type": "stream",
     "text": [
      "\u001b[90m# A tibble: 15 × 11\u001b[39m\n",
      "   Region  NumIncidents PopnAllAges NumCleared ClearedByCharge TotalCharged\n",
      "   \u001b[3m\u001b[90m<chr>\u001b[39m\u001b[23m          \u001b[3m\u001b[90m<dbl>\u001b[39m\u001b[23m \u001b[3m\u001b[90m<chr>\u001b[39m\u001b[23m            \u001b[3m\u001b[90m<dbl>\u001b[39m\u001b[23m           \u001b[3m\u001b[90m<dbl>\u001b[39m\u001b[23m        \u001b[3m\u001b[90m<dbl>\u001b[39m\u001b[23m\n",
      "\u001b[90m 1\u001b[39m Central       \u001b[4m1\u001b[24m\u001b[4m4\u001b[24m\u001b[4m2\u001b[24m375 4,451,480        \u001b[4m7\u001b[24m\u001b[4m1\u001b[24m533           \u001b[4m5\u001b[24m\u001b[4m2\u001b[24m189        \u001b[4m5\u001b[24m\u001b[4m0\u001b[24m378\n",
      "\u001b[90m 2\u001b[39m East          \u001b[4m1\u001b[24m\u001b[4m0\u001b[24m\u001b[4m5\u001b[24m890 2,781,428        \u001b[4m5\u001b[24m\u001b[4m1\u001b[24m200           \u001b[4m3\u001b[24m\u001b[4m5\u001b[24m353        \u001b[4m3\u001b[24m\u001b[4m4\u001b[24m599\n",
      "\u001b[90m 3\u001b[39m North          \u001b[4m5\u001b[24m\u001b[4m6\u001b[24m646 860,589          \u001b[4m3\u001b[24m\u001b[4m4\u001b[24m944           \u001b[4m2\u001b[24m\u001b[4m3\u001b[24m839        \u001b[4m2\u001b[24m\u001b[4m4\u001b[24m175\n",
      "\u001b[90m 4\u001b[39m Toronto       \u001b[4m1\u001b[24m\u001b[4m0\u001b[24m\u001b[4m7\u001b[24m747 2,826,498        \u001b[4m4\u001b[24m\u001b[4m5\u001b[24m935           \u001b[4m3\u001b[24m\u001b[4m4\u001b[24m784        \u001b[4m3\u001b[24m\u001b[4m3\u001b[24m434\n",
      "\u001b[90m 5\u001b[39m West          \u001b[4m1\u001b[24m\u001b[4m3\u001b[24m\u001b[4m5\u001b[24m108 2,872,057        \u001b[4m5\u001b[24m\u001b[4m9\u001b[24m790           \u001b[4m4\u001b[24m\u001b[4m3\u001b[24m012        \u001b[4m4\u001b[24m\u001b[4m1\u001b[24m839\n",
      "\u001b[90m 6\u001b[39m Other           \u001b[4m2\u001b[24m625 .                 \u001b[4m1\u001b[24m305             770          750\n",
      "\u001b[90m 7\u001b[39m \u001b[31mNA\u001b[39m                \u001b[31mNA\u001b[39m \u001b[31mNA\u001b[39m                  \u001b[31mNA\u001b[39m              \u001b[31mNA\u001b[39m           \u001b[31mNA\u001b[39m\n",
      "\u001b[90m 8\u001b[39m \u001b[31mNA\u001b[39m                \u001b[31mNA\u001b[39m \u001b[31mNA\u001b[39m                  \u001b[31mNA\u001b[39m              \u001b[31mNA\u001b[39m           \u001b[31mNA\u001b[39m\n",
      "\u001b[90m 9\u001b[39m \u001b[31mNA\u001b[39m                \u001b[31mNA\u001b[39m \u001b[31mNA\u001b[39m                  \u001b[31mNA\u001b[39m              \u001b[31mNA\u001b[39m           \u001b[31mNA\u001b[39m\n",
      "\u001b[90m10\u001b[39m \u001b[31mNA\u001b[39m                \u001b[31mNA\u001b[39m \u001b[31mNA\u001b[39m                  \u001b[31mNA\u001b[39m              \u001b[31mNA\u001b[39m           \u001b[31mNA\u001b[39m\n",
      "\u001b[90m11\u001b[39m \u001b[31mNA\u001b[39m                \u001b[31mNA\u001b[39m \u001b[31mNA\u001b[39m                  \u001b[31mNA\u001b[39m              \u001b[31mNA\u001b[39m           \u001b[31mNA\u001b[39m\n",
      "\u001b[90m12\u001b[39m \u001b[31mNA\u001b[39m                \u001b[31mNA\u001b[39m \u001b[31mNA\u001b[39m                  \u001b[31mNA\u001b[39m              \u001b[31mNA\u001b[39m           \u001b[31mNA\u001b[39m\n",
      "\u001b[90m13\u001b[39m \u001b[31mNA\u001b[39m                \u001b[31mNA\u001b[39m \u001b[31mNA\u001b[39m                  \u001b[31mNA\u001b[39m              \u001b[31mNA\u001b[39m           \u001b[31mNA\u001b[39m\n",
      "\u001b[90m14\u001b[39m \u001b[31mNA\u001b[39m                \u001b[31mNA\u001b[39m \u001b[31mNA\u001b[39m                  \u001b[31mNA\u001b[39m              \u001b[31mNA\u001b[39m           \u001b[31mNA\u001b[39m\n",
      "\u001b[90m15\u001b[39m \u001b[31mNA\u001b[39m                \u001b[31mNA\u001b[39m \u001b[31mNA\u001b[39m                  \u001b[31mNA\u001b[39m              \u001b[31mNA\u001b[39m           \u001b[31mNA\u001b[39m\n",
      "\u001b[90m# … with 5 more variables: PopnAged12Plus <chr>, RateCharged12Plus <chr>,\u001b[39m\n",
      "\u001b[90m#   NumAdultsCharged <dbl>, PopnAged18Plus <chr>, RateAdultsCharged18Plus <chr>\u001b[39m\n"
     ]
    }
   ],
   "source": [
    "print(df)"
   ]
  },
  {
   "cell_type": "code",
   "execution_count": 24,
   "metadata": {},
   "outputs": [
    {
     "data": {
      "text/html": [
       "<table class=\"dataframe\">\n",
       "<caption>A matrix: 15 × 11 of type lgl</caption>\n",
       "<thead>\n",
       "\t<tr><th scope=col>Region</th><th scope=col>NumIncidents</th><th scope=col>PopnAllAges</th><th scope=col>NumCleared</th><th scope=col>ClearedByCharge</th><th scope=col>TotalCharged</th><th scope=col>PopnAged12Plus</th><th scope=col>RateCharged12Plus</th><th scope=col>NumAdultsCharged</th><th scope=col>PopnAged18Plus</th><th scope=col>RateAdultsCharged18Plus</th></tr>\n",
       "</thead>\n",
       "<tbody>\n",
       "\t<tr><td>FALSE</td><td>FALSE</td><td>FALSE</td><td>FALSE</td><td>FALSE</td><td>FALSE</td><td>FALSE</td><td>FALSE</td><td>FALSE</td><td>FALSE</td><td>FALSE</td></tr>\n",
       "\t<tr><td>FALSE</td><td>FALSE</td><td>FALSE</td><td>FALSE</td><td>FALSE</td><td>FALSE</td><td>FALSE</td><td>FALSE</td><td>FALSE</td><td>FALSE</td><td>FALSE</td></tr>\n",
       "\t<tr><td>FALSE</td><td>FALSE</td><td>FALSE</td><td>FALSE</td><td>FALSE</td><td>FALSE</td><td>FALSE</td><td>FALSE</td><td>FALSE</td><td>FALSE</td><td>FALSE</td></tr>\n",
       "\t<tr><td>FALSE</td><td>FALSE</td><td>FALSE</td><td>FALSE</td><td>FALSE</td><td>FALSE</td><td>FALSE</td><td>FALSE</td><td>FALSE</td><td>FALSE</td><td>FALSE</td></tr>\n",
       "\t<tr><td>FALSE</td><td>FALSE</td><td>FALSE</td><td>FALSE</td><td>FALSE</td><td>FALSE</td><td>FALSE</td><td>FALSE</td><td>FALSE</td><td>FALSE</td><td>FALSE</td></tr>\n",
       "\t<tr><td>FALSE</td><td>FALSE</td><td>FALSE</td><td>FALSE</td><td>FALSE</td><td>FALSE</td><td>FALSE</td><td>FALSE</td><td>FALSE</td><td>FALSE</td><td>FALSE</td></tr>\n",
       "\t<tr><td> TRUE</td><td> TRUE</td><td> TRUE</td><td> TRUE</td><td> TRUE</td><td> TRUE</td><td> TRUE</td><td> TRUE</td><td> TRUE</td><td> TRUE</td><td> TRUE</td></tr>\n",
       "\t<tr><td> TRUE</td><td> TRUE</td><td> TRUE</td><td> TRUE</td><td> TRUE</td><td> TRUE</td><td> TRUE</td><td> TRUE</td><td> TRUE</td><td> TRUE</td><td> TRUE</td></tr>\n",
       "\t<tr><td> TRUE</td><td> TRUE</td><td> TRUE</td><td> TRUE</td><td> TRUE</td><td> TRUE</td><td> TRUE</td><td> TRUE</td><td> TRUE</td><td> TRUE</td><td> TRUE</td></tr>\n",
       "\t<tr><td> TRUE</td><td> TRUE</td><td> TRUE</td><td> TRUE</td><td> TRUE</td><td> TRUE</td><td> TRUE</td><td> TRUE</td><td> TRUE</td><td> TRUE</td><td> TRUE</td></tr>\n",
       "\t<tr><td> TRUE</td><td> TRUE</td><td> TRUE</td><td> TRUE</td><td> TRUE</td><td> TRUE</td><td> TRUE</td><td> TRUE</td><td> TRUE</td><td> TRUE</td><td> TRUE</td></tr>\n",
       "\t<tr><td> TRUE</td><td> TRUE</td><td> TRUE</td><td> TRUE</td><td> TRUE</td><td> TRUE</td><td> TRUE</td><td> TRUE</td><td> TRUE</td><td> TRUE</td><td> TRUE</td></tr>\n",
       "\t<tr><td> TRUE</td><td> TRUE</td><td> TRUE</td><td> TRUE</td><td> TRUE</td><td> TRUE</td><td> TRUE</td><td> TRUE</td><td> TRUE</td><td> TRUE</td><td> TRUE</td></tr>\n",
       "\t<tr><td> TRUE</td><td> TRUE</td><td> TRUE</td><td> TRUE</td><td> TRUE</td><td> TRUE</td><td> TRUE</td><td> TRUE</td><td> TRUE</td><td> TRUE</td><td> TRUE</td></tr>\n",
       "\t<tr><td> TRUE</td><td> TRUE</td><td> TRUE</td><td> TRUE</td><td> TRUE</td><td> TRUE</td><td> TRUE</td><td> TRUE</td><td> TRUE</td><td> TRUE</td><td> TRUE</td></tr>\n",
       "</tbody>\n",
       "</table>\n"
      ],
      "text/latex": [
       "A matrix: 15 × 11 of type lgl\n",
       "\\begin{tabular}{lllllllllll}\n",
       " Region & NumIncidents & PopnAllAges & NumCleared & ClearedByCharge & TotalCharged & PopnAged12Plus & RateCharged12Plus & NumAdultsCharged & PopnAged18Plus & RateAdultsCharged18Plus\\\\\n",
       "\\hline\n",
       "\t FALSE & FALSE & FALSE & FALSE & FALSE & FALSE & FALSE & FALSE & FALSE & FALSE & FALSE\\\\\n",
       "\t FALSE & FALSE & FALSE & FALSE & FALSE & FALSE & FALSE & FALSE & FALSE & FALSE & FALSE\\\\\n",
       "\t FALSE & FALSE & FALSE & FALSE & FALSE & FALSE & FALSE & FALSE & FALSE & FALSE & FALSE\\\\\n",
       "\t FALSE & FALSE & FALSE & FALSE & FALSE & FALSE & FALSE & FALSE & FALSE & FALSE & FALSE\\\\\n",
       "\t FALSE & FALSE & FALSE & FALSE & FALSE & FALSE & FALSE & FALSE & FALSE & FALSE & FALSE\\\\\n",
       "\t FALSE & FALSE & FALSE & FALSE & FALSE & FALSE & FALSE & FALSE & FALSE & FALSE & FALSE\\\\\n",
       "\t  TRUE &  TRUE &  TRUE &  TRUE &  TRUE &  TRUE &  TRUE &  TRUE &  TRUE &  TRUE &  TRUE\\\\\n",
       "\t  TRUE &  TRUE &  TRUE &  TRUE &  TRUE &  TRUE &  TRUE &  TRUE &  TRUE &  TRUE &  TRUE\\\\\n",
       "\t  TRUE &  TRUE &  TRUE &  TRUE &  TRUE &  TRUE &  TRUE &  TRUE &  TRUE &  TRUE &  TRUE\\\\\n",
       "\t  TRUE &  TRUE &  TRUE &  TRUE &  TRUE &  TRUE &  TRUE &  TRUE &  TRUE &  TRUE &  TRUE\\\\\n",
       "\t  TRUE &  TRUE &  TRUE &  TRUE &  TRUE &  TRUE &  TRUE &  TRUE &  TRUE &  TRUE &  TRUE\\\\\n",
       "\t  TRUE &  TRUE &  TRUE &  TRUE &  TRUE &  TRUE &  TRUE &  TRUE &  TRUE &  TRUE &  TRUE\\\\\n",
       "\t  TRUE &  TRUE &  TRUE &  TRUE &  TRUE &  TRUE &  TRUE &  TRUE &  TRUE &  TRUE &  TRUE\\\\\n",
       "\t  TRUE &  TRUE &  TRUE &  TRUE &  TRUE &  TRUE &  TRUE &  TRUE &  TRUE &  TRUE &  TRUE\\\\\n",
       "\t  TRUE &  TRUE &  TRUE &  TRUE &  TRUE &  TRUE &  TRUE &  TRUE &  TRUE &  TRUE &  TRUE\\\\\n",
       "\\end{tabular}\n"
      ],
      "text/markdown": [
       "\n",
       "A matrix: 15 × 11 of type lgl\n",
       "\n",
       "| Region | NumIncidents | PopnAllAges | NumCleared | ClearedByCharge | TotalCharged | PopnAged12Plus | RateCharged12Plus | NumAdultsCharged | PopnAged18Plus | RateAdultsCharged18Plus |\n",
       "|---|---|---|---|---|---|---|---|---|---|---|\n",
       "| FALSE | FALSE | FALSE | FALSE | FALSE | FALSE | FALSE | FALSE | FALSE | FALSE | FALSE |\n",
       "| FALSE | FALSE | FALSE | FALSE | FALSE | FALSE | FALSE | FALSE | FALSE | FALSE | FALSE |\n",
       "| FALSE | FALSE | FALSE | FALSE | FALSE | FALSE | FALSE | FALSE | FALSE | FALSE | FALSE |\n",
       "| FALSE | FALSE | FALSE | FALSE | FALSE | FALSE | FALSE | FALSE | FALSE | FALSE | FALSE |\n",
       "| FALSE | FALSE | FALSE | FALSE | FALSE | FALSE | FALSE | FALSE | FALSE | FALSE | FALSE |\n",
       "| FALSE | FALSE | FALSE | FALSE | FALSE | FALSE | FALSE | FALSE | FALSE | FALSE | FALSE |\n",
       "|  TRUE |  TRUE |  TRUE |  TRUE |  TRUE |  TRUE |  TRUE |  TRUE |  TRUE |  TRUE |  TRUE |\n",
       "|  TRUE |  TRUE |  TRUE |  TRUE |  TRUE |  TRUE |  TRUE |  TRUE |  TRUE |  TRUE |  TRUE |\n",
       "|  TRUE |  TRUE |  TRUE |  TRUE |  TRUE |  TRUE |  TRUE |  TRUE |  TRUE |  TRUE |  TRUE |\n",
       "|  TRUE |  TRUE |  TRUE |  TRUE |  TRUE |  TRUE |  TRUE |  TRUE |  TRUE |  TRUE |  TRUE |\n",
       "|  TRUE |  TRUE |  TRUE |  TRUE |  TRUE |  TRUE |  TRUE |  TRUE |  TRUE |  TRUE |  TRUE |\n",
       "|  TRUE |  TRUE |  TRUE |  TRUE |  TRUE |  TRUE |  TRUE |  TRUE |  TRUE |  TRUE |  TRUE |\n",
       "|  TRUE |  TRUE |  TRUE |  TRUE |  TRUE |  TRUE |  TRUE |  TRUE |  TRUE |  TRUE |  TRUE |\n",
       "|  TRUE |  TRUE |  TRUE |  TRUE |  TRUE |  TRUE |  TRUE |  TRUE |  TRUE |  TRUE |  TRUE |\n",
       "|  TRUE |  TRUE |  TRUE |  TRUE |  TRUE |  TRUE |  TRUE |  TRUE |  TRUE |  TRUE |  TRUE |\n",
       "\n"
      ],
      "text/plain": [
       "      Region NumIncidents PopnAllAges NumCleared ClearedByCharge TotalCharged\n",
       " [1,] FALSE  FALSE        FALSE       FALSE      FALSE           FALSE       \n",
       " [2,] FALSE  FALSE        FALSE       FALSE      FALSE           FALSE       \n",
       " [3,] FALSE  FALSE        FALSE       FALSE      FALSE           FALSE       \n",
       " [4,] FALSE  FALSE        FALSE       FALSE      FALSE           FALSE       \n",
       " [5,] FALSE  FALSE        FALSE       FALSE      FALSE           FALSE       \n",
       " [6,] FALSE  FALSE        FALSE       FALSE      FALSE           FALSE       \n",
       " [7,]  TRUE   TRUE         TRUE        TRUE       TRUE            TRUE       \n",
       " [8,]  TRUE   TRUE         TRUE        TRUE       TRUE            TRUE       \n",
       " [9,]  TRUE   TRUE         TRUE        TRUE       TRUE            TRUE       \n",
       "[10,]  TRUE   TRUE         TRUE        TRUE       TRUE            TRUE       \n",
       "[11,]  TRUE   TRUE         TRUE        TRUE       TRUE            TRUE       \n",
       "[12,]  TRUE   TRUE         TRUE        TRUE       TRUE            TRUE       \n",
       "[13,]  TRUE   TRUE         TRUE        TRUE       TRUE            TRUE       \n",
       "[14,]  TRUE   TRUE         TRUE        TRUE       TRUE            TRUE       \n",
       "[15,]  TRUE   TRUE         TRUE        TRUE       TRUE            TRUE       \n",
       "      PopnAged12Plus RateCharged12Plus NumAdultsCharged PopnAged18Plus\n",
       " [1,] FALSE          FALSE             FALSE            FALSE         \n",
       " [2,] FALSE          FALSE             FALSE            FALSE         \n",
       " [3,] FALSE          FALSE             FALSE            FALSE         \n",
       " [4,] FALSE          FALSE             FALSE            FALSE         \n",
       " [5,] FALSE          FALSE             FALSE            FALSE         \n",
       " [6,] FALSE          FALSE             FALSE            FALSE         \n",
       " [7,]  TRUE           TRUE              TRUE             TRUE         \n",
       " [8,]  TRUE           TRUE              TRUE             TRUE         \n",
       " [9,]  TRUE           TRUE              TRUE             TRUE         \n",
       "[10,]  TRUE           TRUE              TRUE             TRUE         \n",
       "[11,]  TRUE           TRUE              TRUE             TRUE         \n",
       "[12,]  TRUE           TRUE              TRUE             TRUE         \n",
       "[13,]  TRUE           TRUE              TRUE             TRUE         \n",
       "[14,]  TRUE           TRUE              TRUE             TRUE         \n",
       "[15,]  TRUE           TRUE              TRUE             TRUE         \n",
       "      RateAdultsCharged18Plus\n",
       " [1,] FALSE                  \n",
       " [2,] FALSE                  \n",
       " [3,] FALSE                  \n",
       " [4,] FALSE                  \n",
       " [5,] FALSE                  \n",
       " [6,] FALSE                  \n",
       " [7,]  TRUE                  \n",
       " [8,]  TRUE                  \n",
       " [9,]  TRUE                  \n",
       "[10,]  TRUE                  \n",
       "[11,]  TRUE                  \n",
       "[12,]  TRUE                  \n",
       "[13,]  TRUE                  \n",
       "[14,]  TRUE                  \n",
       "[15,]  TRUE                  "
      ]
     },
     "metadata": {},
     "output_type": "display_data"
    }
   ],
   "source": [
    "is.na(df)"
   ]
  },
  {
   "cell_type": "code",
   "execution_count": 25,
   "metadata": {},
   "outputs": [
    {
     "data": {
      "text/html": [
       "<table class=\"dataframe\">\n",
       "<caption>A tibble: 15 × 11</caption>\n",
       "<thead>\n",
       "\t<tr><th scope=col>Region</th><th scope=col>NumIncidents</th><th scope=col>PopnAllAges</th><th scope=col>NumCleared</th><th scope=col>ClearedByCharge</th><th scope=col>TotalCharged</th><th scope=col>PopnAged12Plus</th><th scope=col>RateCharged12Plus</th><th scope=col>NumAdultsCharged</th><th scope=col>PopnAged18Plus</th><th scope=col>RateAdultsCharged18Plus</th></tr>\n",
       "\t<tr><th scope=col>&lt;chr&gt;</th><th scope=col>&lt;dbl&gt;</th><th scope=col>&lt;chr&gt;</th><th scope=col>&lt;dbl&gt;</th><th scope=col>&lt;dbl&gt;</th><th scope=col>&lt;dbl&gt;</th><th scope=col>&lt;chr&gt;</th><th scope=col>&lt;chr&gt;</th><th scope=col>&lt;dbl&gt;</th><th scope=col>&lt;chr&gt;</th><th scope=col>&lt;chr&gt;</th></tr>\n",
       "</thead>\n",
       "<tbody>\n",
       "\t<tr><td>Central</td><td>142375</td><td>4,451,480</td><td>71533</td><td>52189</td><td>50378</td><td>3,835,077</td><td>1,313.61</td><td>45941</td><td>3,500,664</td><td>1,312.35</td></tr>\n",
       "\t<tr><td>East   </td><td>105890</td><td>2,781,428</td><td>51200</td><td>35353</td><td>34599</td><td>2,439,593</td><td>1,418.23</td><td>31770</td><td>2,255,789</td><td>1,408.38</td></tr>\n",
       "\t<tr><td>North  </td><td> 56646</td><td>860,589  </td><td>34944</td><td>23839</td><td>24175</td><td>758,123  </td><td>3,188.80</td><td>21962</td><td>702,710  </td><td>3,125.33</td></tr>\n",
       "\t<tr><td>Toronto</td><td>107747</td><td>2,826,498</td><td>45935</td><td>34784</td><td>33434</td><td>2,497,207</td><td>1,338.86</td><td>30873</td><td>2,340,999</td><td>1,318.80</td></tr>\n",
       "\t<tr><td>West   </td><td>135108</td><td>2,872,057</td><td>59790</td><td>43012</td><td>41839</td><td>2,512,137</td><td>1,665.47</td><td>38511</td><td>2,317,564</td><td>1,661.70</td></tr>\n",
       "\t<tr><td>Other  </td><td>  2625</td><td>.        </td><td> 1305</td><td>  770</td><td>  750</td><td>.        </td><td>.       </td><td>  675</td><td>.        </td><td>.       </td></tr>\n",
       "\t<tr><td>NA     </td><td>    NA</td><td>NA       </td><td>   NA</td><td>   NA</td><td>   NA</td><td>NA       </td><td>NA      </td><td>   NA</td><td>NA       </td><td>NA      </td></tr>\n",
       "\t<tr><td>NA     </td><td>    NA</td><td>NA       </td><td>   NA</td><td>   NA</td><td>   NA</td><td>NA       </td><td>NA      </td><td>   NA</td><td>NA       </td><td>NA      </td></tr>\n",
       "\t<tr><td>NA     </td><td>    NA</td><td>NA       </td><td>   NA</td><td>   NA</td><td>   NA</td><td>NA       </td><td>NA      </td><td>   NA</td><td>NA       </td><td>NA      </td></tr>\n",
       "\t<tr><td>NA     </td><td>    NA</td><td>NA       </td><td>   NA</td><td>   NA</td><td>   NA</td><td>NA       </td><td>NA      </td><td>   NA</td><td>NA       </td><td>NA      </td></tr>\n",
       "\t<tr><td>NA     </td><td>    NA</td><td>NA       </td><td>   NA</td><td>   NA</td><td>   NA</td><td>NA       </td><td>NA      </td><td>   NA</td><td>NA       </td><td>NA      </td></tr>\n",
       "\t<tr><td>NA     </td><td>    NA</td><td>NA       </td><td>   NA</td><td>   NA</td><td>   NA</td><td>NA       </td><td>NA      </td><td>   NA</td><td>NA       </td><td>NA      </td></tr>\n",
       "\t<tr><td>NA     </td><td>    NA</td><td>NA       </td><td>   NA</td><td>   NA</td><td>   NA</td><td>NA       </td><td>NA      </td><td>   NA</td><td>NA       </td><td>NA      </td></tr>\n",
       "\t<tr><td>NA     </td><td>    NA</td><td>NA       </td><td>   NA</td><td>   NA</td><td>   NA</td><td>NA       </td><td>NA      </td><td>   NA</td><td>NA       </td><td>NA      </td></tr>\n",
       "\t<tr><td>NA     </td><td>    NA</td><td>NA       </td><td>   NA</td><td>   NA</td><td>   NA</td><td>NA       </td><td>NA      </td><td>   NA</td><td>NA       </td><td>NA      </td></tr>\n",
       "</tbody>\n",
       "</table>\n"
      ],
      "text/latex": [
       "A tibble: 15 × 11\n",
       "\\begin{tabular}{lllllllllll}\n",
       " Region & NumIncidents & PopnAllAges & NumCleared & ClearedByCharge & TotalCharged & PopnAged12Plus & RateCharged12Plus & NumAdultsCharged & PopnAged18Plus & RateAdultsCharged18Plus\\\\\n",
       " <chr> & <dbl> & <chr> & <dbl> & <dbl> & <dbl> & <chr> & <chr> & <dbl> & <chr> & <chr>\\\\\n",
       "\\hline\n",
       "\t Central & 142375 & 4,451,480 & 71533 & 52189 & 50378 & 3,835,077 & 1,313.61 & 45941 & 3,500,664 & 1,312.35\\\\\n",
       "\t East    & 105890 & 2,781,428 & 51200 & 35353 & 34599 & 2,439,593 & 1,418.23 & 31770 & 2,255,789 & 1,408.38\\\\\n",
       "\t North   &  56646 & 860,589   & 34944 & 23839 & 24175 & 758,123   & 3,188.80 & 21962 & 702,710   & 3,125.33\\\\\n",
       "\t Toronto & 107747 & 2,826,498 & 45935 & 34784 & 33434 & 2,497,207 & 1,338.86 & 30873 & 2,340,999 & 1,318.80\\\\\n",
       "\t West    & 135108 & 2,872,057 & 59790 & 43012 & 41839 & 2,512,137 & 1,665.47 & 38511 & 2,317,564 & 1,661.70\\\\\n",
       "\t Other   &   2625 & .         &  1305 &   770 &   750 & .         & .        &   675 & .         & .       \\\\\n",
       "\t NA      &     NA & NA        &    NA &    NA &    NA & NA        & NA       &    NA & NA        & NA      \\\\\n",
       "\t NA      &     NA & NA        &    NA &    NA &    NA & NA        & NA       &    NA & NA        & NA      \\\\\n",
       "\t NA      &     NA & NA        &    NA &    NA &    NA & NA        & NA       &    NA & NA        & NA      \\\\\n",
       "\t NA      &     NA & NA        &    NA &    NA &    NA & NA        & NA       &    NA & NA        & NA      \\\\\n",
       "\t NA      &     NA & NA        &    NA &    NA &    NA & NA        & NA       &    NA & NA        & NA      \\\\\n",
       "\t NA      &     NA & NA        &    NA &    NA &    NA & NA        & NA       &    NA & NA        & NA      \\\\\n",
       "\t NA      &     NA & NA        &    NA &    NA &    NA & NA        & NA       &    NA & NA        & NA      \\\\\n",
       "\t NA      &     NA & NA        &    NA &    NA &    NA & NA        & NA       &    NA & NA        & NA      \\\\\n",
       "\t NA      &     NA & NA        &    NA &    NA &    NA & NA        & NA       &    NA & NA        & NA      \\\\\n",
       "\\end{tabular}\n"
      ],
      "text/markdown": [
       "\n",
       "A tibble: 15 × 11\n",
       "\n",
       "| Region &lt;chr&gt; | NumIncidents &lt;dbl&gt; | PopnAllAges &lt;chr&gt; | NumCleared &lt;dbl&gt; | ClearedByCharge &lt;dbl&gt; | TotalCharged &lt;dbl&gt; | PopnAged12Plus &lt;chr&gt; | RateCharged12Plus &lt;chr&gt; | NumAdultsCharged &lt;dbl&gt; | PopnAged18Plus &lt;chr&gt; | RateAdultsCharged18Plus &lt;chr&gt; |\n",
       "|---|---|---|---|---|---|---|---|---|---|---|\n",
       "| Central | 142375 | 4,451,480 | 71533 | 52189 | 50378 | 3,835,077 | 1,313.61 | 45941 | 3,500,664 | 1,312.35 |\n",
       "| East    | 105890 | 2,781,428 | 51200 | 35353 | 34599 | 2,439,593 | 1,418.23 | 31770 | 2,255,789 | 1,408.38 |\n",
       "| North   |  56646 | 860,589   | 34944 | 23839 | 24175 | 758,123   | 3,188.80 | 21962 | 702,710   | 3,125.33 |\n",
       "| Toronto | 107747 | 2,826,498 | 45935 | 34784 | 33434 | 2,497,207 | 1,338.86 | 30873 | 2,340,999 | 1,318.80 |\n",
       "| West    | 135108 | 2,872,057 | 59790 | 43012 | 41839 | 2,512,137 | 1,665.47 | 38511 | 2,317,564 | 1,661.70 |\n",
       "| Other   |   2625 | .         |  1305 |   770 |   750 | .         | .        |   675 | .         | .        |\n",
       "| NA      |     NA | NA        |    NA |    NA |    NA | NA        | NA       |    NA | NA        | NA       |\n",
       "| NA      |     NA | NA        |    NA |    NA |    NA | NA        | NA       |    NA | NA        | NA       |\n",
       "| NA      |     NA | NA        |    NA |    NA |    NA | NA        | NA       |    NA | NA        | NA       |\n",
       "| NA      |     NA | NA        |    NA |    NA |    NA | NA        | NA       |    NA | NA        | NA       |\n",
       "| NA      |     NA | NA        |    NA |    NA |    NA | NA        | NA       |    NA | NA        | NA       |\n",
       "| NA      |     NA | NA        |    NA |    NA |    NA | NA        | NA       |    NA | NA        | NA       |\n",
       "| NA      |     NA | NA        |    NA |    NA |    NA | NA        | NA       |    NA | NA        | NA       |\n",
       "| NA      |     NA | NA        |    NA |    NA |    NA | NA        | NA       |    NA | NA        | NA       |\n",
       "| NA      |     NA | NA        |    NA |    NA |    NA | NA        | NA       |    NA | NA        | NA       |\n",
       "\n"
      ],
      "text/plain": [
       "   Region  NumIncidents PopnAllAges NumCleared ClearedByCharge TotalCharged\n",
       "1  Central 142375       4,451,480   71533      52189           50378       \n",
       "2  East    105890       2,781,428   51200      35353           34599       \n",
       "3  North    56646       860,589     34944      23839           24175       \n",
       "4  Toronto 107747       2,826,498   45935      34784           33434       \n",
       "5  West    135108       2,872,057   59790      43012           41839       \n",
       "6  Other     2625       .            1305        770             750       \n",
       "7  NA          NA       NA             NA         NA              NA       \n",
       "8  NA          NA       NA             NA         NA              NA       \n",
       "9  NA          NA       NA             NA         NA              NA       \n",
       "10 NA          NA       NA             NA         NA              NA       \n",
       "11 NA          NA       NA             NA         NA              NA       \n",
       "12 NA          NA       NA             NA         NA              NA       \n",
       "13 NA          NA       NA             NA         NA              NA       \n",
       "14 NA          NA       NA             NA         NA              NA       \n",
       "15 NA          NA       NA             NA         NA              NA       \n",
       "   PopnAged12Plus RateCharged12Plus NumAdultsCharged PopnAged18Plus\n",
       "1  3,835,077      1,313.61          45941            3,500,664     \n",
       "2  2,439,593      1,418.23          31770            2,255,789     \n",
       "3  758,123        3,188.80          21962            702,710       \n",
       "4  2,497,207      1,338.86          30873            2,340,999     \n",
       "5  2,512,137      1,665.47          38511            2,317,564     \n",
       "6  .              .                   675            .             \n",
       "7  NA             NA                   NA            NA            \n",
       "8  NA             NA                   NA            NA            \n",
       "9  NA             NA                   NA            NA            \n",
       "10 NA             NA                   NA            NA            \n",
       "11 NA             NA                   NA            NA            \n",
       "12 NA             NA                   NA            NA            \n",
       "13 NA             NA                   NA            NA            \n",
       "14 NA             NA                   NA            NA            \n",
       "15 NA             NA                   NA            NA            \n",
       "   RateAdultsCharged18Plus\n",
       "1  1,312.35               \n",
       "2  1,408.38               \n",
       "3  3,125.33               \n",
       "4  1,318.80               \n",
       "5  1,661.70               \n",
       "6  .                      \n",
       "7  NA                     \n",
       "8  NA                     \n",
       "9  NA                     \n",
       "10 NA                     \n",
       "11 NA                     \n",
       "12 NA                     \n",
       "13 NA                     \n",
       "14 NA                     \n",
       "15 NA                     "
      ]
     },
     "metadata": {},
     "output_type": "display_data"
    }
   ],
   "source": [
    "df "
   ]
  },
  {
   "cell_type": "code",
   "execution_count": 26,
   "metadata": {},
   "outputs": [
    {
     "ename": "ERROR",
     "evalue": "Error: Must subset rows with a valid subscript vector.\n\u001b[31m✖\u001b[39m Subscript `!is.na(df)` must be a simple vector, not a matrix.\n",
     "output_type": "error",
     "traceback": [
      "Error: Must subset rows with a valid subscript vector.\n\u001b[31m✖\u001b[39m Subscript `!is.na(df)` must be a simple vector, not a matrix.\nTraceback:\n",
      "1. df[!is.na(df), ]",
      "2. `[.tbl_df`(df, !is.na(df), )",
      "3. tbl_subset_row(xo, i = i, i_arg)",
      "4. vectbl_as_row_index(i, x, i_arg)",
      "5. vectbl_as_row_location(i, nr, i_arg, assign)",
      "6. subclass_row_index_errors(vec_as_location(i, n), i_arg = i_arg, \n .     assign = assign)",
      "7. withCallingHandlers(expr, vctrs_error_subscript = function(cnd) {\n .     cnd$subscript_arg <- i_arg\n .     cnd$subscript_elt <- \"row\"\n .     if (isTRUE(assign) && !isTRUE(cnd$subscript_action %in% c(\"negate\"))) {\n .         cnd$subscript_action <- \"assign\"\n .     }\n .     cnd_signal(cnd)\n . })",
      "8. vec_as_location(i, n)",
      "9. cnd_signal(structure(list(message = \"\", trace = NULL, parent = NULL, \n .     i = structure(c(TRUE, TRUE, TRUE, TRUE, TRUE, TRUE, FALSE, \n .     FALSE, FALSE, FALSE, FALSE, FALSE, FALSE, FALSE, FALSE, TRUE, \n .     TRUE, TRUE, TRUE, TRUE, TRUE, FALSE, FALSE, FALSE, FALSE, \n .     FALSE, FALSE, FALSE, FALSE, FALSE, TRUE, TRUE, TRUE, TRUE, \n .     TRUE, TRUE, FALSE, FALSE, FALSE, FALSE, FALSE, FALSE, FALSE, \n .     FALSE, FALSE, TRUE, TRUE, TRUE, TRUE, TRUE, TRUE, FALSE, \n .     FALSE, FALSE, FALSE, FALSE, FALSE, FALSE, FALSE, FALSE, TRUE, \n .     TRUE, TRUE, TRUE, TRUE, TRUE, FALSE, FALSE, FALSE, FALSE, \n .     FALSE, FALSE, FALSE, FALSE, FALSE, TRUE, TRUE, TRUE, TRUE, \n .     TRUE, TRUE, FALSE, FALSE, FALSE, FALSE, FALSE, FALSE, FALSE, \n .     FALSE, FALSE, TRUE, TRUE, TRUE, TRUE, TRUE, TRUE, FALSE, \n .     FALSE, FALSE, FALSE, FALSE, FALSE, FALSE, FALSE, FALSE, TRUE, \n .     TRUE, TRUE, TRUE, TRUE, TRUE, FALSE, FALSE, FALSE, FALSE, \n .     FALSE, FALSE, FALSE, FALSE, FALSE, TRUE, TRUE, TRUE, TRUE, \n .     TRUE, TRUE, FALSE, FALSE, FALSE, FALSE, FALSE, FALSE, FALSE, \n .     FALSE, FALSE, TRUE, TRUE, TRUE, TRUE, TRUE, TRUE, FALSE, \n .     FALSE, FALSE, FALSE, FALSE, FALSE, FALSE, FALSE, FALSE, TRUE, \n .     TRUE, TRUE, TRUE, TRUE, TRUE, FALSE, FALSE, FALSE, FALSE, \n .     FALSE, FALSE, FALSE, FALSE, FALSE), .Dim = c(15L, 11L), .Dimnames = list(\n .         NULL, c(\"Region\", \"NumIncidents\", \"PopnAllAges\", \"NumCleared\", \n .         \"ClearedByCharge\", \"TotalCharged\", \"PopnAged12Plus\", \n .         \"RateCharged12Plus\", \"NumAdultsCharged\", \"PopnAged18Plus\", \n .         \"RateAdultsCharged18Plus\"))), logical = \"cast\", numeric = \"cast\", \n .     character = \"cast\", subscript_arg = \"\", subscript_action = NULL, \n .     body = function (cnd, ...) \n .     {\n .         arg <- append_arg(\"Subscript\", cnd$subscript_arg)\n .         dim <- length(dim(cnd$i))\n .         if (dim < 2) {\n .             abort(\"Internal error: Unexpected dimensionality in `cnd_body_subcript_dim()`.\")\n .         }\n .         if (dim == 2) {\n .             shape <- \"a matrix\"\n .         }\n .         else {\n .             shape <- \"an array\"\n .         }\n .         format_error_bullets(c(x = glue::glue(\"{arg} must be a simple vector, not {shape}.\")))\n .     }), class = c(\"vctrs_error_subscript_type\", \"vctrs_error_subscript\", \n . \"rlang_error\", \"error\", \"condition\")))",
      "10. signal_abort(cnd)",
      "11. signalCondition(cnd)",
      "12. (function (cnd) \n  . {\n  .     cnd$subscript_arg <- i_arg\n  .     cnd$subscript_elt <- \"row\"\n  .     if (isTRUE(assign) && !isTRUE(cnd$subscript_action %in% c(\"negate\"))) {\n  .         cnd$subscript_action <- \"assign\"\n  .     }\n  .     cnd_signal(cnd)\n  . })(structure(list(message = \"\", trace = structure(list(calls = list(\n  .     IRkernel::main(), kernel$run(), IRkernel:::handle_shell(), \n  .     executor$execute(msg), base::tryCatch(evaluate(request$content$code, \n  .         envir = .GlobalEnv, output_handler = oh, stop_on_error = 1L), \n  .         interrupt = function(cond) {\n  .             log_debug(\"Interrupt during execution\")\n  .             interrupted <<- TRUE\n  .         }, error = .self$handle_error), base:::tryCatchList(expr, \n  .         classes, parentenv, handlers), base:::tryCatchOne(tryCatchList(expr, \n  .         names[-nh], parentenv, handlers[-nh]), names[nh], parentenv, \n  .         handlers[[nh]]), base:::doTryCatch(return(expr), name, \n  .         parentenv, handler), base:::tryCatchList(expr, names[-nh], \n  .         parentenv, handlers[-nh]), base:::tryCatchOne(expr, names, \n  .         parentenv, handlers[[1L]]), base:::doTryCatch(return(expr), \n  .         name, parentenv, handler), evaluate::evaluate(request$content$code, \n  .         envir = .GlobalEnv, output_handler = oh, stop_on_error = 1L), \n  .     evaluate:::evaluate_call(expr, parsed$src[[i]], envir = envir, \n  .         enclos = enclos, debug = debug, last = i == length(out), \n  .         use_try = stop_on_error != 2L, keep_warning = keep_warning, \n  .         keep_message = keep_message, output_handler = output_handler, \n  .         include_timing = include_timing), evaluate:::timing_fn(handle(ev <- withCallingHandlers(withVisible(eval(expr, \n  .         envir, enclos)), warning = wHandler, error = eHandler, \n  .         message = mHandler))), evaluate:::handle(ev <- withCallingHandlers(withVisible(eval(expr, \n  .         envir, enclos)), warning = wHandler, error = eHandler, \n  .         message = mHandler)), base::try(f, silent = TRUE), base::tryCatch(expr, \n  .         error = function(e) {\n  .             call <- conditionCall(e)\n  .             if (!is.null(call)) {\n  .                 if (identical(call[[1L]], quote(doTryCatch))) \n  .                   call <- sys.call(-4L)\n  .                 dcall <- deparse(call)[1L]\n  .                 prefix <- paste(\"Error in\", dcall, \": \")\n  .                 LONG <- 75L\n  .                 sm <- strsplit(conditionMessage(e), \"\\n\")[[1L]]\n  .                 w <- 14L + nchar(dcall, type = \"w\") + nchar(sm[1L], \n  .                   type = \"w\")\n  .                 if (is.na(w)) \n  .                   w <- 14L + nchar(dcall, type = \"b\") + nchar(sm[1L], \n  .                     type = \"b\")\n  .                 if (w > LONG) \n  .                   prefix <- paste0(prefix, \"\\n  \")\n  .             }\n  .             else prefix <- \"Error : \"\n  .             msg <- paste0(prefix, conditionMessage(e), \"\\n\")\n  .             .Internal(seterrmessage(msg[1L]))\n  .             if (!silent && isTRUE(getOption(\"show.error.messages\"))) {\n  .                 cat(msg, file = outFile)\n  .                 .Internal(printDeferredWarnings())\n  .             }\n  .             invisible(structure(msg, class = \"try-error\", condition = e))\n  .         }), base:::tryCatchList(expr, classes, parentenv, handlers), \n  .     base:::tryCatchOne(expr, names, parentenv, handlers[[1L]]), \n  .     base:::doTryCatch(return(expr), name, parentenv, handler), \n  .     base::withCallingHandlers(withVisible(eval(expr, envir, enclos)), \n  .         warning = wHandler, error = eHandler, message = mHandler), \n  .     base::withVisible(eval(expr, envir, enclos)), base::eval(expr, \n  .         envir, enclos), base::eval(expr, envir, enclos), df[!is.na(df), \n  .         ], tibble:::`[.tbl_df`(df, !is.na(df), ), tibble:::tbl_subset_row(xo, \n  .         i = i, i_arg), tibble:::vectbl_as_row_index(i, x, i_arg), \n  .     tibble:::vectbl_as_row_location(i, nr, i_arg, assign), tibble:::subclass_row_index_errors(vec_as_location(i, \n  .         n), i_arg = i_arg, assign = assign), base::withCallingHandlers(expr, \n  .         vctrs_error_subscript = function(cnd) {\n  .             cnd$subscript_arg <- i_arg\n  .             cnd$subscript_elt <- \"row\"\n  .             if (isTRUE(assign) && !isTRUE(cnd$subscript_action %in% \n  .                 c(\"negate\"))) {\n  .                 cnd$subscript_action <- \"assign\"\n  .             }\n  .             cnd_signal(cnd)\n  .         }), vctrs::vec_as_location(i, n)), parents = c(0L, 1L, \n  . 2L, 3L, 4L, 5L, 6L, 7L, 6L, 9L, 10L, 4L, 12L, 13L, 13L, 15L, \n  . 16L, 17L, 18L, 19L, 13L, 13L, 13L, 23L, 0L, 0L, 26L, 27L, 28L, \n  . 29L, 30L, 29L), indices = 1:32), class = \"rlang_trace\", version = 1L), \n  .     parent = NULL, i = structure(c(TRUE, TRUE, TRUE, TRUE, TRUE, \n  .     TRUE, FALSE, FALSE, FALSE, FALSE, FALSE, FALSE, FALSE, FALSE, \n  .     FALSE, TRUE, TRUE, TRUE, TRUE, TRUE, TRUE, FALSE, FALSE, \n  .     FALSE, FALSE, FALSE, FALSE, FALSE, FALSE, FALSE, TRUE, TRUE, \n  .     TRUE, TRUE, TRUE, TRUE, FALSE, FALSE, FALSE, FALSE, FALSE, \n  .     FALSE, FALSE, FALSE, FALSE, TRUE, TRUE, TRUE, TRUE, TRUE, \n  .     TRUE, FALSE, FALSE, FALSE, FALSE, FALSE, FALSE, FALSE, FALSE, \n  .     FALSE, TRUE, TRUE, TRUE, TRUE, TRUE, TRUE, FALSE, FALSE, \n  .     FALSE, FALSE, FALSE, FALSE, FALSE, FALSE, FALSE, TRUE, TRUE, \n  .     TRUE, TRUE, TRUE, TRUE, FALSE, FALSE, FALSE, FALSE, FALSE, \n  .     FALSE, FALSE, FALSE, FALSE, TRUE, TRUE, TRUE, TRUE, TRUE, \n  .     TRUE, FALSE, FALSE, FALSE, FALSE, FALSE, FALSE, FALSE, FALSE, \n  .     FALSE, TRUE, TRUE, TRUE, TRUE, TRUE, TRUE, FALSE, FALSE, \n  .     FALSE, FALSE, FALSE, FALSE, FALSE, FALSE, FALSE, TRUE, TRUE, \n  .     TRUE, TRUE, TRUE, TRUE, FALSE, FALSE, FALSE, FALSE, FALSE, \n  .     FALSE, FALSE, FALSE, FALSE, TRUE, TRUE, TRUE, TRUE, TRUE, \n  .     TRUE, FALSE, FALSE, FALSE, FALSE, FALSE, FALSE, FALSE, FALSE, \n  .     FALSE, TRUE, TRUE, TRUE, TRUE, TRUE, TRUE, FALSE, FALSE, \n  .     FALSE, FALSE, FALSE, FALSE, FALSE, FALSE, FALSE), .Dim = c(15L, \n  .     11L), .Dimnames = list(NULL, c(\"Region\", \"NumIncidents\", \n  .     \"PopnAllAges\", \"NumCleared\", \"ClearedByCharge\", \"TotalCharged\", \n  .     \"PopnAged12Plus\", \"RateCharged12Plus\", \"NumAdultsCharged\", \n  .     \"PopnAged18Plus\", \"RateAdultsCharged18Plus\"))), logical = \"cast\", \n  .     numeric = \"cast\", character = \"cast\", subscript_arg = \"\", \n  .     subscript_action = NULL, body = function (cnd, ...) \n  .     {\n  .         arg <- append_arg(\"Subscript\", cnd$subscript_arg)\n  .         dim <- length(dim(cnd$i))\n  .         if (dim < 2) {\n  .             abort(\"Internal error: Unexpected dimensionality in `cnd_body_subcript_dim()`.\")\n  .         }\n  .         if (dim == 2) {\n  .             shape <- \"a matrix\"\n  .         }\n  .         else {\n  .             shape <- \"an array\"\n  .         }\n  .         format_error_bullets(c(x = glue::glue(\"{arg} must be a simple vector, not {shape}.\")))\n  .     }), class = c(\"vctrs_error_subscript_type\", \"vctrs_error_subscript\", \n  . \"rlang_error\", \"error\", \"condition\")))",
      "13. cnd_signal(cnd)",
      "14. rlang:::signal_abort(x)"
     ]
    }
   ],
   "source": [
    "# drop all na values\n",
    "df <- df[!is.na(df),]"
   ]
  },
  {
   "cell_type": "code",
   "execution_count": null,
   "metadata": {},
   "outputs": [],
   "source": []
  }
 ],
 "metadata": {
  "kernelspec": {
   "display_name": "R",
   "language": "R",
   "name": "ir"
  },
  "language_info": {
   "codemirror_mode": "r",
   "file_extension": ".r",
   "mimetype": "text/x-r-source",
   "name": "R",
   "pygments_lexer": "r",
   "version": "4.1.1"
  },
  "orig_nbformat": 4
 },
 "nbformat": 4,
 "nbformat_minor": 2
}
